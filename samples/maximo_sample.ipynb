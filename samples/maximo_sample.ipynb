{
 "cells": [
  {
   "cell_type": "markdown",
   "id": "016a0d6c-8bcd-4d57-addc-e6c929c7310d",
   "metadata": {},
   "source": [
    "## Select work order whose wonum = 'H13936826'"
   ]
  },
  {
   "cell_type": "code",
   "execution_count": 3,
   "id": "0ebc0687-4327-4b0e-a886-535e9def6196",
   "metadata": {
    "tags": []
   },
   "outputs": [
    {
     "data": {
      "text/plain": [
       "[('H13936826', '6M-CFT & Calibration Fire and Gas Sys at MT1-Drilling Deck', 'APPR', 'PM', 'MT1-DRILL', 'E&I', datetime.datetime(2023, 5, 1, 0, 0), datetime.datetime(2023, 5, 14, 14, 55), 22.0, 0.0, Decimal('0.00'), Decimal('324.18'))]"
      ]
     },
     "execution_count": 3,
     "metadata": {},
     "output_type": "execute_result"
    }
   ],
   "source": [
    "from dtp import DTP\n",
    "DTP().query(sql=\"\"\"SELECT wonum,description,status,worktype,location,bdpocdiscipline,schedstart,\n",
    "      schedfinish,round(estdur),estlabhrs,estlabcost,estmatcost\n",
    "    FROM \n",
    "        MAXIMO.workorder workorder\n",
    "    WHERE workorder.wonum='H13936826'\n",
    "\"\"\")"
   ]
  },
  {
   "cell_type": "code",
   "execution_count": 4,
   "id": "fae90333-d40d-4e1b-bd17-0da3aa52e454",
   "metadata": {
    "tags": []
   },
   "outputs": [
    {
     "data": {
      "text/html": [
       "<div>\n",
       "<style scoped>\n",
       "    .dataframe tbody tr th:only-of-type {\n",
       "        vertical-align: middle;\n",
       "    }\n",
       "\n",
       "    .dataframe tbody tr th {\n",
       "        vertical-align: top;\n",
       "    }\n",
       "\n",
       "    .dataframe thead th {\n",
       "        text-align: right;\n",
       "    }\n",
       "</style>\n",
       "<table border=\"1\" class=\"dataframe\">\n",
       "  <thead>\n",
       "    <tr style=\"text-align: right;\">\n",
       "      <th></th>\n",
       "      <th>WOnum</th>\n",
       "      <th>Description</th>\n",
       "      <th>Status</th>\n",
       "      <th>Worktype</th>\n",
       "      <th>Location</th>\n",
       "      <th>bdpocdiscipline</th>\n",
       "      <th>schedstart</th>\n",
       "      <th>schedfinish</th>\n",
       "      <th>estdur</th>\n",
       "      <th>estlabhrs</th>\n",
       "      <th>estlabcost</th>\n",
       "      <th>estmatcost</th>\n",
       "    </tr>\n",
       "  </thead>\n",
       "  <tbody>\n",
       "    <tr>\n",
       "      <th>0</th>\n",
       "      <td>H13936826</td>\n",
       "      <td>6M-CFT &amp; Calibration Fire and Gas Sys at MT1-D...</td>\n",
       "      <td>APPR</td>\n",
       "      <td>PM</td>\n",
       "      <td>MT1-DRILL</td>\n",
       "      <td>E&amp;I</td>\n",
       "      <td>2023-05-01</td>\n",
       "      <td>2023-05-14 14:55:00</td>\n",
       "      <td>22.0</td>\n",
       "      <td>0.0</td>\n",
       "      <td>0.00</td>\n",
       "      <td>324.18</td>\n",
       "    </tr>\n",
       "  </tbody>\n",
       "</table>\n",
       "</div>"
      ],
      "text/plain": [
       "       WOnum                                        Description Status  \\\n",
       "0  H13936826  6M-CFT & Calibration Fire and Gas Sys at MT1-D...   APPR   \n",
       "\n",
       "  Worktype   Location bdpocdiscipline schedstart         schedfinish  estdur  \\\n",
       "0       PM  MT1-DRILL             E&I 2023-05-01 2023-05-14 14:55:00    22.0   \n",
       "\n",
       "   estlabhrs estlabcost estmatcost  \n",
       "0        0.0       0.00     324.18  "
      ]
     },
     "execution_count": 4,
     "metadata": {},
     "output_type": "execute_result"
    }
   ],
   "source": [
    "DTP().asDataFrame(sql=\"\"\"SELECT wonum,description,status,worktype,location,bdpocdiscipline,schedstart,\n",
    "      schedfinish,round(estdur),estlabhrs,estlabcost,estmatcost\n",
    "    FROM \n",
    "        MAXIMO.workorder workorder\n",
    "    WHERE workorder.wonum='H13936826'\n",
    "\"\"\", columns=[\"WOnum\", \"Description\" , \"Status\" , \"Worktype\", \"Location\",\"bdpocdiscipline\",\"schedstart\",\n",
    "      \"schedfinish\",\"estdur\",\"estlabhrs\",\"estlabcost\",\"estmatcost\"])"
   ]
  },
  {
   "cell_type": "code",
   "execution_count": null,
   "id": "0434a8f9-0d38-49f8-9c47-3363c07e19b5",
   "metadata": {},
   "outputs": [],
   "source": []
  }
 ],
 "metadata": {
  "kernelspec": {
   "display_name": "Python 3 (ipykernel)",
   "language": "python",
   "name": "python3"
  },
  "language_info": {
   "codemirror_mode": {
    "name": "ipython",
    "version": 3
   },
   "file_extension": ".py",
   "mimetype": "text/x-python",
   "name": "python",
   "nbconvert_exporter": "python",
   "pygments_lexer": "ipython3",
   "version": "3.9.7"
  }
 },
 "nbformat": 4,
 "nbformat_minor": 5
}
