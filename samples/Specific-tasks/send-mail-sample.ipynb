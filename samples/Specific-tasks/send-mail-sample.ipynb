{
 "cells": [
  {
   "cell_type": "code",
   "execution_count": 1,
   "id": "5e74666e-2329-46e3-8f90-05ce46046ee7",
   "metadata": {
    "tags": []
   },
   "outputs": [],
   "source": [
    "from bdpocmail import SendMail\n",
    "SendMail().sendmail(\"tung.hoang@gmail.com\", \"This is subject\", \"Lorem ipsum dolor sit amet\")"
   ]
  }
 ],
 "metadata": {
  "kernelspec": {
   "display_name": "Python 3 (ipykernel)",
   "language": "python",
   "name": "python3"
  },
  "language_info": {
   "codemirror_mode": {
    "name": "ipython",
    "version": 3
   },
   "file_extension": ".py",
   "mimetype": "text/x-python",
   "name": "python",
   "nbconvert_exporter": "python",
   "pygments_lexer": "ipython3",
   "version": "3.9.7"
  }
 },
 "nbformat": 4,
 "nbformat_minor": 5
}
