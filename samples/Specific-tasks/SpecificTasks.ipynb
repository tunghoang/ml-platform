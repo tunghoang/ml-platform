{
 "cells": [
  {
   "cell_type": "markdown",
   "id": "8a8625a7-1024-4d28-be19-f8c8afe6db0e",
   "metadata": {},
   "source": [
    "# SPECIFIC TASKS\n",
    "## Lấy ngày hôm nay"
   ]
  },
  {
   "cell_type": "code",
   "execution_count": 5,
   "id": "f8b5068e-170c-4536-8882-104e1eb41c6b",
   "metadata": {
    "tags": []
   },
   "outputs": [],
   "source": [
    "from datetime import datetime, timedelta\n",
    "from dateutil import parser as dparser"
   ]
  },
  {
   "cell_type": "code",
   "execution_count": 2,
   "id": "325e2fb4-7547-4228-8a81-204422f1b794",
   "metadata": {
    "tags": []
   },
   "outputs": [],
   "source": [
    "now = datetime.now()"
   ]
  },
  {
   "cell_type": "code",
   "execution_count": 9,
   "id": "5d4e3df8-62de-4e96-bafb-f42bd481fdf7",
   "metadata": {
    "tags": []
   },
   "outputs": [
    {
     "data": {
      "text/plain": [
       "datetime.datetime(2023, 5, 21, 0, 0, tzinfo=tzoffset(None, 25200))"
      ]
     },
     "execution_count": 9,
     "metadata": {},
     "output_type": "execute_result"
    }
   ],
   "source": [
    "todayStr = now.strftime(\"%Y-%m-%dT00:00:00+07:00\")\n",
    "today = dparser.isoparse(todayStr)\n",
    "today"
   ]
  },
  {
   "cell_type": "markdown",
   "id": "192a3c0d-603b-4258-8a23-6cf88eb63759",
   "metadata": {},
   "source": [
    "## Lấy ngày hôm qua"
   ]
  },
  {
   "cell_type": "code",
   "execution_count": 7,
   "id": "fda207fa-e777-4e5a-afc1-33d57783c119",
   "metadata": {
    "tags": []
   },
   "outputs": [],
   "source": [
    "yesterday = today - timedelta(days=1)\n",
    "yesterday"
   ]
  },
  {
   "cell_type": "code",
   "execution_count": null,
   "id": "d48f35e0-119a-4c56-80e4-547aed810b75",
   "metadata": {},
   "outputs": [],
   "source": []
  }
 ],
 "metadata": {
  "kernelspec": {
   "display_name": "Python 3 (ipykernel)",
   "language": "python",
   "name": "python3"
  },
  "language_info": {
   "codemirror_mode": {
    "name": "ipython",
    "version": 3
   },
   "file_extension": ".py",
   "mimetype": "text/x-python",
   "name": "python",
   "nbconvert_exporter": "python",
   "pygments_lexer": "ipython3",
   "version": "3.9.7"
  }
 },
 "nbformat": 4,
 "nbformat_minor": 5
}
