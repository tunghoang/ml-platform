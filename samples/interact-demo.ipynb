{
 "cells": [
  {
   "cell_type": "code",
   "execution_count": null,
   "id": "fbc962ea-fbc5-40c9-8657-1dd7d1e2dd1e",
   "metadata": {},
   "outputs": [],
   "source": [
    "from interact_utils import NotebookInteractive\n",
    "import numpy as np\n",
    "import plotly.express as px\n",
    "import matplotlib.pyplot as plt"
   ]
  },
  {
   "cell_type": "code",
   "execution_count": null,
   "id": "2d0598e8-f1db-4825-adc4-c84a53a3342e",
   "metadata": {},
   "outputs": [],
   "source": [
    "matInteractive = NotebookInteractive(\"matplotlib\")\n",
    "plotlyInteractive = NotebookInteractive(\"plotly\")\n",
    "\n",
    "def sinData(f):\n",
    "    time = np.arange(0, 1, 0.01)\n",
    "    return (time, np.sin(2 * np.pi * f * time))"
   ]
  },
  {
   "cell_type": "code",
   "execution_count": null,
   "id": "edf363df-8e7a-47de-a3c5-5329d1b192c7",
   "metadata": {},
   "outputs": [],
   "source": [
    "def matDraw(f):\n",
    "    time, signal = sinData(f)\n",
    "    plt.plot(time, signal)\n",
    "\n",
    "matInteractive.draw(matDraw, wdgs=[((1, 10, 1, 1), 'freq', 'slider')])"
   ]
  },
  {
   "cell_type": "code",
   "execution_count": null,
   "id": "059684f2-14ed-4720-a2f3-a15e4204cd3e",
   "metadata": {},
   "outputs": [],
   "source": [
    "def plotlyDraw(f):\n",
    "    time, signal = sinData(f)\n",
    "    fig = px.scatter(x=time,y=signal)\n",
    "    fig.show()\n",
    "\n",
    "plotlyInteractive.draw(plotlyDraw, wdgs=[((1, 10, 1, 1), 'freq', 'slider')])"
   ]
  },
  {
   "cell_type": "code",
   "execution_count": null,
   "id": "dc246770-305a-4a2b-924f-8ba9f4b76c35",
   "metadata": {},
   "outputs": [],
   "source": [
    "def plotlyDraw(s):\n",
    "    data_canada = px.data.gapminder().query(f\"country == '{s}'\")\n",
    "    fig = px.bar(data_canada, x='year', y='pop')\n",
    "    fig.show()\n",
    "    \n",
    "plotlyInteractive.draw(plotlyDraw, wdgs=[(['Canada', 'China', 'Afghanistan'], 'Country:', 'button')])"
   ]
  },
  {
   "cell_type": "code",
   "execution_count": null,
   "id": "113b910b-f098-4637-9af2-6af739c402c6",
   "metadata": {},
   "outputs": [],
   "source": [
    "def matDraw(m, b):\n",
    "    fig = plt.figure(2)\n",
    "    x = np.linspace(-10, 10, num=1000)\n",
    "    plt.plot(x, m * x + b)\n",
    "    plt.ylim(-5, 5)\n",
    "    plt.show()\n",
    "\n",
    "matInteractive.draw(matDraw, wdgs=[((-2, 2), '$\\phi$', 'slider'), ((-3, 3, 0.5), 'inc', 'slider')])"
   ]
  },
  {
   "cell_type": "code",
   "execution_count": null,
   "id": "fafb9779-dce4-4d92-a4f7-06129e777bd5",
   "metadata": {},
   "outputs": [],
   "source": [
    "def plotlyDraw(s):\n",
    "    data_canada = px.data.gapminder().query(f\"country == '{s}'\")\n",
    "    fig = px.bar(data_canada, x='year', y='pop')\n",
    "    fig.show()\n",
    "    \n",
    "plotlyInteractive.draw(plotlyDraw, wdgs=[(['Canada', 'China', 'Afghanistan'], 'Country:', 'dropdown')])"
   ]
  },
  {
   "cell_type": "code",
   "execution_count": null,
   "id": "acda2ceb-01d1-4f48-9511-b7b61c04960d",
   "metadata": {},
   "outputs": [],
   "source": [
    "def matDraw(f):\n",
    "    time, signal = sinData(int(f))\n",
    "    plt.plot(time, signal)\n",
    "\n",
    "matInteractive.draw(matDraw, wdgs=[('10', 'freq', 'text')])"
   ]
  },
  {
   "cell_type": "code",
   "execution_count": null,
   "id": "af065997-4f5e-481e-91c2-35c69e5e44c2",
   "metadata": {},
   "outputs": [],
   "source": []
  }
 ],
 "metadata": {
  "kernelspec": {
   "display_name": "Python 3 (ipykernel)",
   "language": "python",
   "name": "python3"
  },
  "language_info": {
   "codemirror_mode": {
    "name": "ipython",
    "version": 3
   },
   "file_extension": ".py",
   "mimetype": "text/x-python",
   "name": "python",
   "nbconvert_exporter": "python",
   "pygments_lexer": "ipython3",
   "version": "3.9.7"
  }
 },
 "nbformat": 4,
 "nbformat_minor": 5
}
