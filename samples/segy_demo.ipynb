{
 "cells": [
  {
   "cell_type": "code",
   "execution_count": null,
   "id": "9f65ec39-8166-4b6a-ba7b-79ff52f2d98e",
   "metadata": {
    "tags": []
   },
   "outputs": [],
   "source": [
    "import segyio\n",
    "import matplotlib.pyplot as plt\n",
    "import pathlib"
   ]
  },
  {
   "cell_type": "markdown",
   "id": "457dc61f-a317-4dba-bc7e-032df779410f",
   "metadata": {},
   "source": [
    "### Import segyfile"
   ]
  },
  {
   "cell_type": "code",
   "execution_count": null,
   "id": "c85e02c2-9ea4-42d4-a375-5fe347538134",
   "metadata": {
    "tags": []
   },
   "outputs": [],
   "source": [
    "V3D_path = pathlib.Path(\"segy_data/file_5.sgy\")\n",
    "print(\"3D\", V3D_path, V3D_path.exists())"
   ]
  },
  {
   "cell_type": "markdown",
   "id": "105be990-f62c-4652-a9c4-300fd151c503",
   "metadata": {
    "tags": []
   },
   "source": [
    "### Show text header"
   ]
  },
  {
   "cell_type": "code",
   "execution_count": null,
   "id": "93160bca-e569-4c45-9c81-60a420f7351e",
   "metadata": {
    "toc-hr-collapsed": true
   },
   "outputs": [],
   "source": [
    "from segysak.segy import get_segy_texthead\n",
    "get_segy_texthead(V3D_path)"
   ]
  },
  {
   "cell_type": "code",
   "execution_count": null,
   "id": "0966fa11-8f5f-4c7d-a90e-3dc3adc21aad",
   "metadata": {},
   "outputs": [],
   "source": [
    "from segysak.segy import segy_header_scan\n",
    "\n",
    "scan = segy_header_scan(V3D_path)\n",
    "scan"
   ]
  },
  {
   "cell_type": "code",
   "execution_count": null,
   "id": "6f5269ae-b002-461c-a435-d70f8ed17aec",
   "metadata": {},
   "outputs": [],
   "source": [
    "scan[scan[\"std\"] > 0]"
   ]
  },
  {
   "cell_type": "code",
   "execution_count": null,
   "id": "2566d517-905a-486f-aaa4-365d1ed06701",
   "metadata": {},
   "outputs": [],
   "source": [
    "from segysak.segy import segy_header_scrape\n",
    "\n",
    "scrape = segy_header_scrape(V3D_path, partial_scan=10)\n",
    "scrape"
   ]
  },
  {
   "cell_type": "markdown",
   "id": "d76b70c6-8c4b-4897-b26f-49d3b8ca033d",
   "metadata": {
    "tags": []
   },
   "source": [
    "### Show xline iline twt correlation"
   ]
  },
  {
   "cell_type": "code",
   "execution_count": null,
   "id": "18112fd9-a0e5-439e-bcdc-5d8fb3b309cb",
   "metadata": {},
   "outputs": [],
   "source": [
    "from segysak.segy import segy_loader, well_known_byte_locs\n",
    "\n",
    "V3D = segy_loader(V3D_path, iline=189, xline=193, cdpx=73, cdpy=77, vert_domain=\"TWT\")\n",
    "V3D"
   ]
  },
  {
   "cell_type": "code",
   "execution_count": null,
   "id": "318628ae-548c-44d5-9401-40d7320fdf76",
   "metadata": {},
   "outputs": [],
   "source": [
    "fig, ax1 = plt.subplots(ncols=1, figsize=(10, 6))\n",
    "iline_sel = 10090\n",
    "V3D.data.transpose(\"twt\", \"iline\", \"xline\", transpose_coords=True).sel(\n",
    "    twt=4\n",
    ").plot(yincrease=False, cmap=\"seismic_r\")\n",
    "plt.grid(\"grey\")\n",
    "plt.ylabel(\"iline\")\n",
    "plt.xlabel(\"xline\")"
   ]
  },
  {
   "cell_type": "code",
   "execution_count": null,
   "id": "61d75042-181f-4870-97b3-539cc773171e",
   "metadata": {},
   "outputs": [],
   "source": [
    "fig, ax1 = plt.subplots(ncols=1, figsize=(10, 6))\n",
    "iline_sel = 10090\n",
    "V3D.data.transpose(\"twt\", \"iline\", \"xline\", transpose_coords=True).sel(\n",
    "    twt=4\n",
    ").plot(yincrease=False, cmap=\"seismic_r\")\n",
    "plt.grid(\"grey\")\n",
    "plt.ylabel(\"iline\")\n",
    "plt.xlabel(\"xline\")"
   ]
  },
  {
   "cell_type": "code",
   "execution_count": null,
   "id": "9b4d68d0-3b6e-4ed5-8efb-9c0601f03cf3",
   "metadata": {},
   "outputs": [],
   "source": [
    "fig, ax1 = plt.subplots(ncols=1, figsize=(10, 6))\n",
    "xline_sel = 2151\n",
    "V3D.data.transpose(\"twt\", \"iline\", \"xline\", transpose_coords=True).sel(\n",
    "    xline=xline_sel\n",
    ").plot(yincrease=False, cmap=\"seismic_r\")\n",
    "plt.grid(\"grey\")\n",
    "plt.ylabel(\"TWT\")\n",
    "plt.xlabel(\"ILINE\")"
   ]
  }
 ],
 "metadata": {
  "kernelspec": {
   "display_name": "Python 3 (ipykernel)",
   "language": "python",
   "name": "python3"
  },
  "language_info": {
   "codemirror_mode": {
    "name": "ipython",
    "version": 3
   },
   "file_extension": ".py",
   "mimetype": "text/x-python",
   "name": "python",
   "nbconvert_exporter": "python",
   "pygments_lexer": "ipython3",
   "version": "3.9.7"
  },
  "toc-autonumbering": true
 },
 "nbformat": 4,
 "nbformat_minor": 5
}
