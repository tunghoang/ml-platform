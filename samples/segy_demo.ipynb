{
 "cells": [
  {
   "cell_type": "code",
   "execution_count": 12,
   "id": "9f65ec39-8166-4b6a-ba7b-79ff52f2d98e",
   "metadata": {
    "tags": []
   },
   "outputs": [],
   "source": [
    "import matplotlib.pyplot as plt\n",
    "import pathlib"
   ]
  },
  {
   "cell_type": "markdown",
   "id": "457dc61f-a317-4dba-bc7e-032df779410f",
   "metadata": {},
   "source": [
    "### Import segyfile"
   ]
  },
  {
   "cell_type": "code",
   "execution_count": 9,
   "id": "c85e02c2-9ea4-42d4-a375-5fe347538134",
   "metadata": {
    "tags": []
   },
   "outputs": [
    {
     "name": "stdout",
     "output_type": "stream",
     "text": [
      "3D segy_data/file_5.sgy True\n"
     ]
    }
   ],
   "source": [
    "V3D_path = pathlib.Path(\"segy_data/file_5.sgy\")\n",
    "print(\"3D\", V3D_path, V3D_path.exists())"
   ]
  },
  {
   "cell_type": "markdown",
   "id": "105be990-f62c-4652-a9c4-300fd151c503",
   "metadata": {
    "tags": []
   },
   "source": [
    "### Show text header"
   ]
  },
  {
   "cell_type": "code",
   "execution_count": 10,
   "id": "93160bca-e569-4c45-9c81-60a420f7351e",
   "metadata": {
    "tags": [],
    "toc-hr-collapsed": true
   },
   "outputs": [
    {
     "data": {
      "text/html": [
       "<h3 style='font-size: medium;'>Text Header</h3><h3 style='font-size: small;'>C 1 SEGY OUTPUT FROM Petrel 2017.2 Saturday, June 06 2020 10:15:00<br/>C 2 Name: ST10010ZDC12-PZ-PSDM-KIRCH-FULL-T.MIG_FIN.POST_STACK.3D.JS-017534<br/>ÝCroC 3<br/>C 4 First inline: 10090  Last inline: 10150<br/>C 5 First xline:  2150   Last xline:  2351<br/>C 6 CRS: ED50-UTM31 (\"MENTOR:ED50-UTM31:European 1950 Based UTM, Zone 31 North,<br/>C 7 X min: 433955.09 max: 436589.56 delta: 2634.47<br/>C 8 Y min: 6477439.46 max: 6478790.23 delta: 1350.77<br/>C 9 Time min: -3402.00 max: -2.00 delta: 3400.00<br/>C10 Lat min: 58.25'52.8804\"N max: 58.26'37.9493\"N delta: 0.00'45.0689\"<br/>C11 Long min: 1.52'7.1906\"E max: 1.54'50.9616\"E delta: 0.02'43.7710\"<br/>C12 Trace min: -3400.00 max: -4.00 delta: 3396.00<br/>C13 Seismic (template) min: -58.55 max: 54.55 delta: 113.10<br/>C14 Amplitude (data) min: -58.55 max: 54.55 delta: 113.10<br/>C15 Trace sample format: IEEE floating point<br/>C16 Coordinate scale factor: 100.00000<br/>C17<br/>C18 Binary header locations:<br/>C19 Sample interval             : bytes 17-18<br/>C20 Number of samples per trace : bytes 21-22<br/>C21 Trace date format           : bytes 25-26<br/>C22<br/>C23 Trace header locations:<br/>C24 Inline number               : bytes 5-8<br/>C25 Xline number                : bytes 21-24<br/>C26 Coordinate scale factor     : bytes 71-72<br/>C27 X coordinate                : bytes 73-76<br/>C28 Y coordinate                : bytes 77-80<br/>C29 Trace start time/depth      : bytes 109-110<br/>C30 Number of samples per trace : bytes 115-116<br/>C31 Sample interval             : bytes 117-118<br/>C32<br/>C33<br/>C34<br/>C35<br/>C36<br/>C37<br/>C38<br/>C39<br/>C40 END EBCDIC<br/></h3>"
      ],
      "text/plain": [
       "Text HeaderC 1 SEGY OUTPUT FROM Petrel 2017.2 Saturday, June 06 2020 10:15:00\n",
       "C 2 Name: ST10010ZDC12-PZ-PSDM-KIRCH-FULL-T.MIG_FIN.POST_STACK.3D.JS-017534\n",
       "ÝCroC 3\n",
       "C 4 First inline: 10090  Last inline: 10150\n",
       "C 5 First xline:  2150   Last xline:  2351\n",
       "C 6 CRS: ED50-UTM31 (\"MENTOR:ED50-UTM31:European 1950 Based UTM, Zone 31 North,\n",
       "C 7 X min: 433955.09 max: 436589.56 delta: 2634.47\n",
       "C 8 Y min: 6477439.46 max: 6478790.23 delta: 1350.77\n",
       "C 9 Time min: -3402.00 max: -2.00 delta: 3400.00\n",
       "C10 Lat min: 58.25'52.8804\"N max: 58.26'37.9493\"N delta: 0.00'45.0689\"\n",
       "C11 Long min: 1.52'7.1906\"E max: 1.54'50.9616\"E delta: 0.02'43.7710\"\n",
       "C12 Trace min: -3400.00 max: -4.00 delta: 3396.00\n",
       "C13 Seismic (template) min: -58.55 max: 54.55 delta: 113.10\n",
       "C14 Amplitude (data) min: -58.55 max: 54.55 delta: 113.10\n",
       "C15 Trace sample format: IEEE floating point\n",
       "C16 Coordinate scale factor: 100.00000\n",
       "C17\n",
       "C18 Binary header locations:\n",
       "C19 Sample interval             : bytes 17-18\n",
       "C20 Number of samples per trace : bytes 21-22\n",
       "C21 Trace date format           : bytes 25-26\n",
       "C22\n",
       "C23 Trace header locations:\n",
       "C24 Inline number               : bytes 5-8\n",
       "C25 Xline number                : bytes 21-24\n",
       "C26 Coordinate scale factor     : bytes 71-72\n",
       "C27 X coordinate                : bytes 73-76\n",
       "C28 Y coordinate                : bytes 77-80\n",
       "C29 Trace start time/depth      : bytes 109-110\n",
       "C30 Number of samples per trace : bytes 115-116\n",
       "C31 Sample interval             : bytes 117-118\n",
       "C32\n",
       "C33\n",
       "C34\n",
       "C35\n",
       "C36\n",
       "C37\n",
       "C38\n",
       "C39\n",
       "C40 END EBCDIC\n"
      ]
     },
     "execution_count": 10,
     "metadata": {},
     "output_type": "execute_result"
    }
   ],
   "source": [
    "from segysak.segy import get_segy_texthead\n",
    "get_segy_texthead(V3D_path)"
   ]
  },
  {
   "cell_type": "code",
   "execution_count": null,
   "id": "0966fa11-8f5f-4c7d-a90e-3dc3adc21aad",
   "metadata": {
    "tags": []
   },
   "outputs": [],
   "source": [
    "from segysak.segy import segy_header_scan\n",
    "\n",
    "scan = segy_header_scan(V3D_path)\n",
    "scan"
   ]
  },
  {
   "cell_type": "code",
   "execution_count": null,
   "id": "6f5269ae-b002-461c-a435-d70f8ed17aec",
   "metadata": {
    "tags": []
   },
   "outputs": [],
   "source": [
    "scan[scan[\"std\"] > 0]"
   ]
  },
  {
   "cell_type": "code",
   "execution_count": null,
   "id": "2566d517-905a-486f-aaa4-365d1ed06701",
   "metadata": {
    "tags": []
   },
   "outputs": [],
   "source": [
    "from segysak.segy import segy_header_scrape\n",
    "\n",
    "scrape = segy_header_scrape(V3D_path, partial_scan=10)\n",
    "scrape"
   ]
  },
  {
   "cell_type": "markdown",
   "id": "d76b70c6-8c4b-4897-b26f-49d3b8ca033d",
   "metadata": {
    "tags": []
   },
   "source": [
    "### xline iline twt "
   ]
  },
  {
   "cell_type": "code",
   "execution_count": null,
   "id": "18112fd9-a0e5-439e-bcdc-5d8fb3b309cb",
   "metadata": {
    "tags": []
   },
   "outputs": [],
   "source": [
    "from segysak.segy import segy_loader, well_known_byte_locs\n",
    "\n",
    "V3D = segy_loader(V3D_path, iline=189, xline=193, cdpx=73, cdpy=77, vert_domain=\"TWT\")\n",
    "V3D"
   ]
  },
  {
   "cell_type": "markdown",
   "id": "14200d57-9c17-4a89-92db-1fe1613ac05f",
   "metadata": {},
   "source": [
    "### (xline, yline) twt=4 "
   ]
  },
  {
   "cell_type": "code",
   "execution_count": null,
   "id": "318628ae-548c-44d5-9401-40d7320fdf76",
   "metadata": {
    "tags": []
   },
   "outputs": [],
   "source": [
    "fig, ax1 = plt.subplots(ncols=1, figsize=(10, 6))\n",
    "iline_sel = 10090\n",
    "V3D.data.transpose(\"twt\", \"iline\", \"xline\", transpose_coords=True).sel(\n",
    "    twt=4\n",
    ").plot(yincrease=False, cmap=\"seismic_r\")\n",
    "plt.grid(\"grey\")\n",
    "plt.ylabel(\"iline\")\n",
    "plt.xlabel(\"xline\")"
   ]
  },
  {
   "cell_type": "markdown",
   "id": "d2bdc7ec-f909-40c0-9965-cff6ae0bf0a2",
   "metadata": {},
   "source": [
    "### (xline, yline) twt=60"
   ]
  },
  {
   "cell_type": "code",
   "execution_count": null,
   "id": "61d75042-181f-4870-97b3-539cc773171e",
   "metadata": {
    "tags": []
   },
   "outputs": [],
   "source": [
    "fig, ax1 = plt.subplots(ncols=1, figsize=(10, 6))\n",
    "iline_sel = 10090\n",
    "V3D.data.transpose(\"twt\", \"iline\", \"xline\", transpose_coords=True).sel(\n",
    "    twt=60\n",
    ").plot(yincrease=False, cmap=\"seismic_r\")\n",
    "plt.grid(\"grey\")\n",
    "plt.ylabel(\"iline\")\n",
    "plt.xlabel(\"xline\")"
   ]
  },
  {
   "cell_type": "markdown",
   "id": "4601d360-cdef-49ae-8863-d1dad3e9caf1",
   "metadata": {},
   "source": [
    "### (iline, twt) xline=2151"
   ]
  },
  {
   "cell_type": "code",
   "execution_count": null,
   "id": "9b4d68d0-3b6e-4ed5-8efb-9c0601f03cf3",
   "metadata": {
    "tags": []
   },
   "outputs": [],
   "source": [
    "fig, ax1 = plt.subplots(ncols=1, figsize=(10, 6))\n",
    "xline_sel = 2151\n",
    "V3D.data.transpose(\"twt\", \"iline\", \"xline\", transpose_coords=True).sel(\n",
    "    xline=xline_sel\n",
    ").plot(yincrease=False, cmap=\"seismic_r\")\n",
    "plt.grid(\"grey\")\n",
    "plt.ylabel(\"TWT\")\n",
    "plt.xlabel(\"ILINE\")"
   ]
  },
  {
   "cell_type": "code",
   "execution_count": null,
   "id": "6cedb121-597b-499d-b761-78f1703e0588",
   "metadata": {},
   "outputs": [],
   "source": []
  }
 ],
 "metadata": {
  "kernelspec": {
   "display_name": "Python 3 (ipykernel)",
   "language": "python",
   "name": "python3"
  },
  "language_info": {
   "codemirror_mode": {
    "name": "ipython",
    "version": 3
   },
   "file_extension": ".py",
   "mimetype": "text/x-python",
   "name": "python",
   "nbconvert_exporter": "python",
   "pygments_lexer": "ipython3",
   "version": "3.9.7"
  },
  "toc-autonumbering": true
 },
 "nbformat": 4,
 "nbformat_minor": 5
}
